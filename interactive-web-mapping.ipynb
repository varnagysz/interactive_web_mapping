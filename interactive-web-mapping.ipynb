{
 "cells": [
  {
   "cell_type": "markdown",
   "id": "abbaa532",
   "metadata": {},
   "source": [
    "# Explore Urban Networks and Amenities as Interactive Web Maps"
   ]
  },
  {
   "cell_type": "markdown",
   "id": "e0332034",
   "metadata": {},
   "source": [
    "Based on: https://github.com/gboeing/osmnx-examples/blob/main/notebooks/11-interactive-web-mapping.ipynb"
   ]
  },
  {
   "cell_type": "markdown",
   "id": "1c6e062d",
   "metadata": {},
   "source": [
    "Use OSMnx to download a street network, calculate a route between two points, and create a Leaflet web map using GeoPandas [explore](https://geopandas.org/en/stable/docs/reference/api/geopandas.GeoDataFrame.explore.html). See the GeoPandas documentation for more style details."
   ]
  },
  {
   "cell_type": "code",
   "execution_count": 11,
   "id": "4971e26e",
   "metadata": {},
   "outputs": [],
   "source": [
    "import networkx as nx\n",
    "import osmnx as ox\n",
    "\n",
    "import folium\n",
    "import mapclassify\n",
    "\n",
    "%matplotlib inline"
   ]
  },
  {
   "cell_type": "code",
   "execution_count": 12,
   "id": "a4d49ffa",
   "metadata": {},
   "outputs": [],
   "source": [
    "# download a street network then solve a shortest-path route on it\n",
    "place = '5th district, Budapest, Hungary'\n",
    "weight = 'length'\n",
    "G = ox.graph_from_place(place, network_type = 'drive')\n",
    "orig = list(G.nodes)[0]\n",
    "dest = list(G.nodes)[-1]\n",
    "route = ox.shortest_path(G, orig, dest, weight = weight)"
   ]
  },
  {
   "cell_type": "markdown",
   "id": "f711d4bd",
   "metadata": {},
   "source": [
    "## Explore a City's Street Network as an Interactive Web Map"
   ]
  },
  {
   "cell_type": "code",
   "execution_count": 13,
   "id": "86884631",
   "metadata": {},
   "outputs": [],
   "source": [
    "# explore graph edges interactively, with a simple one-liner\n",
    "ox.graph_to_gdfs(G, nodes = False).explore()"
   ]
  },
  {
   "cell_type": "markdown",
   "id": "1ab89ad3",
   "metadata": {},
   "source": [
    "You can zoom into the street network above or hover over any edge to get more info."
   ]
  },
  {
   "cell_type": "code",
   "execution_count": 14,
   "id": "744b23bd",
   "metadata": {},
   "outputs": [],
   "source": [
    "# explore graph nodes interactively, with different basemap tiles\n",
    "nodes = ox.graph_to_gdfs(G, edges = False)\n",
    "nodes.explore(tiles = 'cartodbpositron', marker_kwds = {'radius' : 8})"
   ]
  },
  {
   "cell_type": "code",
   "execution_count": 5,
   "id": "157e146a",
   "metadata": {},
   "outputs": [],
   "source": [
    "# explore nodes and edges together in a single map\n",
    "nodes, edges = ox.graph_to_gdfs(G)\n",
    "m = edges.explore(color = 'skyblue', tiles = 'cartodbdarkmatter')\n",
    "nodes.explore(m = m, color = 'pink', marker_kwds = {'radius' : 6})"
   ]
  },
  {
   "cell_type": "markdown",
   "id": "b334948b",
   "metadata": {},
   "source": [
    "## Explore Attributes of the Nodes and Edges Visually"
   ]
  },
  {
   "cell_type": "code",
   "execution_count": 6,
   "id": "e4e117e1",
   "metadata": {},
   "outputs": [],
   "source": [
    "# explore graph edges interactively, colored by length\n",
    "m = edges.explore(tiles = 'cartodbdarkmatter', column = 'length', cmap = 'plasma')"
   ]
  },
  {
   "cell_type": "code",
   "execution_count": 7,
   "id": "2df03d69",
   "metadata": {},
   "outputs": [],
   "source": [
    "# you can save a web map as an HTML file for reuse elsewhere\n",
    "m.save(\"data/color_by_length/graph_5th_district.html\")"
   ]
  },
  {
   "cell_type": "code",
   "execution_count": 8,
   "id": "b5828908",
   "metadata": {},
   "outputs": [],
   "source": [
    "# explore graph nodes interactively, color by betweenness centrality\n",
    "nx.set_node_attributes(G, nx.betweenness_centrality(G, weight = 'length'), name = 'bc')\n",
    "nodes = ox.graph_to_gdfs(G, edges = False)\n",
    "nodes.explore(tiles = 'cartodbdarkmatter', column = 'bc', marker_kwds = {'radius' : 8})"
   ]
  },
  {
   "cell_type": "markdown",
   "id": "39503924",
   "metadata": {},
   "source": [
    "## Explore Building Footprints and Parks"
   ]
  },
  {
   "cell_type": "code",
   "execution_count": 9,
   "id": "69a33ae9",
   "metadata": {},
   "outputs": [],
   "source": [
    "# explore a city's park interactively\n",
    "tiles = 'cartodbdarkmatter'\n",
    "parks = ox.features_from_place(place, tags = {'leisure' : 'park'})\n",
    "parks.explore(tiles = tiles, color = 'lime', tooltip = 'name')"
   ]
  },
  {
   "cell_type": "code",
   "execution_count": 10,
   "id": "66ada214",
   "metadata": {},
   "outputs": [],
   "source": [
    "# explore a neighborhood's buildings interactively\n",
    "gdf = ox.features_from_place(place, tags = {'building' : True})\n",
    "cols = ['height', 'addr:housenumber', 'addr:street', 'addr:postcode']\n",
    "gdf.explore(tiles = tiles, tooltip = cols)"
   ]
  },
  {
   "cell_type": "code",
   "execution_count": null,
   "id": "97683572",
   "metadata": {},
   "outputs": [],
   "source": []
  },
  {
   "cell_type": "code",
   "execution_count": null,
   "id": "78e17a55",
   "metadata": {},
   "outputs": [],
   "source": []
  }
 ],
 "metadata": {
  "kernelspec": {
   "display_name": "Python 3 (ipykernel)",
   "language": "python",
   "name": "python3"
  },
  "language_info": {
   "codemirror_mode": {
    "name": "ipython",
    "version": 3
   },
   "file_extension": ".py",
   "mimetype": "text/x-python",
   "name": "python",
   "nbconvert_exporter": "python",
   "pygments_lexer": "ipython3",
   "version": "3.11.3"
  }
 },
 "nbformat": 4,
 "nbformat_minor": 5
}
